{
 "cells": [
  {
   "cell_type": "code",
   "execution_count": 1,
   "metadata": {},
   "outputs": [],
   "source": [
    "import numpy as _np"
   ]
  },
  {
   "cell_type": "code",
   "execution_count": 2,
   "metadata": {},
   "outputs": [
    {
     "name": "stdout",
     "output_type": "stream",
     "text": [
      "to achieve 0.50 cm drop at the antenna over a distance of 150.0 cm, the flange must shift by 0.19 degrees\n",
      "to achieve that shift, with a bolt-pattern on 150.0 mm, requires 0.50 mm of shimming at the upper bolt\n"
     ]
    }
   ],
   "source": [
    "offset = 0.5 # cm\n",
    "leverarm = 150 # cm\n",
    "rad2deg = 180.0/_np.pi\n",
    "theta = _np.arctan(offset/leverarm)  # radians required to shim\n",
    "theta_deg = theta*rad2deg # degrees required to shim\n",
    "boltpattern = 150.0 # mm\n",
    "shim = boltpattern*_np.tan(theta)   # mm to shim upper part to achieve offset drop\n",
    "\n",
    "print('to achieve %3.2f cm drop at the antenna over a distance of %3.1f cm, the flange must shift by %3.2f degrees'%(offset, leverarm, theta_deg))\n",
    "print('to achieve that shift, with a bolt-pattern on %3.1f mm, requires %3.2f mm of shimming at the upper bolt'%(boltpattern, shim))"
   ]
  }
 ],
 "metadata": {
  "kernelspec": {
   "display_name": "Python 3",
   "language": "python",
   "name": "python3"
  },
  "language_info": {
   "codemirror_mode": {
    "name": "ipython",
    "version": 3
   },
   "file_extension": ".py",
   "mimetype": "text/x-python",
   "name": "python",
   "nbconvert_exporter": "python",
   "pygments_lexer": "ipython3",
   "version": "3.7.9"
  }
 },
 "nbformat": 4,
 "nbformat_minor": 4
}
